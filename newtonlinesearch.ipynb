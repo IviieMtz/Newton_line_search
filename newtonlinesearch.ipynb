{
 "cells": [
  {
   "cell_type": "code",
   "execution_count": 16,
   "metadata": {},
   "outputs": [
    {
     "data": {
      "text/plain": [
       "Newton_linesearch (generic function with 1 method)"
      ]
     },
     "execution_count": 16,
     "metadata": {},
     "output_type": "execute_result"
    }
   ],
   "source": [
    "using Printf\n",
    "#Julia Language, this file is run with jupyter, if want to run with julia change extension to .jl", 
    "#Author: Irma Martinez iimartinezh@miners.utep.edu\n",
    "function linesearch(p, x, tolerance, delta)\n",
    "    global pnew=0\n",
    "    if abs(f(x+delta))>= tolerance #check new x before working on line search\n",
    "         for p=0:line #starting line search\n",
    "             alpha=(1/2)^p \n",
    "             if abs(f(x+alpha*delta))<= sqrt(1-(2*(10^-4))*alpha)*abs(f(x)) #check if the f(x) is descending\n",
    "                 x=x+alpha*delta\n",
    "                 pnew=p\n",
    "                 break\n",
    "             end     \n",
    "         end\n",
    "    else\n",
    "        x=x+delta\n",
    "    end\n",
    "    p=pnew\n",
    "    return p, x\n",
    "end\n",
    "\n",
    "function Newton_linesearch(f, df, x, tolerance, line, method)\n",
    "#f is function to be solved\n",
    "#df is derivative of function\n",
    "#x is initial point, \n",
    "#tolerance \n",
    "#line is the max_iter for line search at alpha^p where p=0 up to line\n",
    "#method -> \"newton\" or \"secant\"\n",
    " iter=1\n",
    " p=0\n",
    "    \n",
    " if abs(df(x))< tolerance \n",
    "    print(\"\\n Warning! denominator is too small \\n\") ##catch for errors on derivative\n",
    "    return\n",
    " end\n",
    "    \n",
    " if method==\"newton\"\n",
    "  print(\"\\t Newton method \\niter \\t p \\t x \\t\\t   error \\n\")\n",
    "  @printf(\"\\n %d \\t %d\\t %.4e \\t %.4e\", iter,p,x,abs(f(x)))\n",
    "    while abs(f(x)) > tolerance\n",
    "           iter= iter + 1\n",
    "           delta=-(f(x)/df(x))\n",
    "           p, x=linesearch(p, x, tolerance, delta)\n",
    "        if (iter==100)\n",
    "            println(\"The last value of f(x)=\", f(x), \" at 100 iterations \\n and it didn't converge at the given tolerance\")\n",
    "            break\n",
    "        end\n",
    "        @printf(\"\\n %d \\t %d\\t %.4e \\t %.4e\", iter,p,x,abs(f(x)))\n",
    "    end\n",
    " end\n",
    "    \n",
    "  if method==\"secant\"\n",
    "  xa=x #secant\n",
    "  print(\"\\t Secant method \\nIter \\t X \\t\\t   Y \\n  \")\n",
    "  @printf(\"\\n %d \\t %d\\t %.4e \\t %.4e\", iter,p,x,abs(f(x)))\n",
    "  #start secant\n",
    "    while abs(f(x)) > tolerance\n",
    "           iter= iter + 1\n",
    "           delta=-(f(x)/((f(x)-f(xa))/(x-xa))) ##xa is the previous, secant\n",
    "           xa=x ##update previous x before update, secant\n",
    "           p, x=linesearch(p, x, tolerance, delta)\n",
    "        if (iter==100)\n",
    "            println(\"The last value of f(x)=\", f(x), \" at 100 iterations \\n and it didn't converge at the given tolerance\")\n",
    "            break\n",
    "        end\n",
    "        @printf(\"\\n %d \\t %d\\t %.4e \\t %.4e\", iter,p,x,abs(f(x)))\n",
    "    end\n",
    " end   \n",
    "    \n",
    " if iter==1\n",
    "        print(\"Your initial point was the actual solution to this equation!\")\n",
    " end\n",
    "    \n",
    "end    \n",
    "\n"
   ]
  },
  {
   "cell_type": "code",
   "execution_count": 6,
   "metadata": {},
   "outputs": [
    {
     "data": {
      "text/plain": [
       "df (generic function with 1 method)"
      ]
     },
     "execution_count": 6,
     "metadata": {},
     "output_type": "execute_result"
    }
   ],
   "source": [
    "x=2\n",
    "f(x)=atan(x)\n",
    "df(x)=1/(1+x^2)"
   ]
  },
  {
   "cell_type": "code",
   "execution_count": 7,
   "metadata": {},
   "outputs": [
    {
     "data": {
      "text/plain": [
       "\"newton\""
      ]
     },
     "execution_count": 7,
     "metadata": {},
     "output_type": "execute_result"
    }
   ],
   "source": [
    "tolerance=10^-7\n",
    "line=10\n",
    "method=\"newton\""
   ]
  },
  {
   "cell_type": "code",
   "execution_count": 15,
   "metadata": {},
   "outputs": [
    {
     "name": "stdout",
     "output_type": "stream",
     "text": [
      "\t Newton method \n",
      "iter \t p \t x \t\t   error \n",
      "\n",
      " 1 \t 0\t 2.0000e+00 \t 1.1071e+00\n",
      " 2 \t 1\t -7.6787e-01 \t 6.5484e-01\n",
      " 3 \t 0\t 2.7308e-01 \t 2.6658e-01\n",
      " 4 \t 0\t -1.3380e-02 \t 1.3379e-02\n",
      " 5 \t 0\t 1.5969e-06 \t 1.5969e-06\n",
      " 6 \t 0\t -2.7150e-18 \t 2.7150e-18"
     ]
    }
   ],
   "source": [
    "Newton_linesearch(f, df, x, tolerance, line, method)"
   ]
  },
  {
   "cell_type": "code",
   "execution_count": null,
   "metadata": {},
   "outputs": [],
   "source": []
  }
 ],
 "metadata": {
  "kernelspec": {
   "display_name": "Julia 1.3.1",
   "language": "julia",
   "name": "julia-1.3"
  },
  "language_info": {
   "file_extension": ".jl",
   "mimetype": "application/julia",
   "name": "julia",
   "version": "1.3.1"
  }
 },
 "nbformat": 4,
 "nbformat_minor": 4
}
