{
 "cells": [
  {
   "cell_type": "code",
   "execution_count": 4,
   "metadata": {},
   "outputs": [],
   "source": [
    "import math\n",
    "#'Author: Irma Martinez iimartinezh@miners.utep.edu'\n",
    "def linesearch(p, x, tolerance, delta):\n",
    "    ''' p,x,tolerance,delta-> numbers\n",
    "    Performs the line search and returns number of iterations and updted x'''\n",
    "    if abs(evaluation(x+delta,f))>= tolerance: #'check new x before working on line search'\n",
    "        for p in range(line): #'starting line search'\n",
    "            alpha=(1/2)**p \n",
    "            if abs(evaluation(x+alpha*delta,f))<= math.sqrt(1-(2*(10**-4))*alpha)*abs(evaluation(x,f)): #'check if the f(x) is descending'\n",
    "                x=x+alpha*delta\n",
    "                break     \n",
    "    else: \n",
    "        p=0\n",
    "        x=x+delta\n",
    "    return p, x\n",
    "\n",
    "def evaluation(x,f):\n",
    "    '''f is string function to be solved\n",
    "    Evaluates de function in the new x without updating the x'''\n",
    "    return eval(f)\n",
    "\n",
    "def Newton_linesearch(f, df, x, tolerance, line, method):\n",
    "    #f is function to be solved of type \"string\"\n",
    "    #df is derivative of function of type \"string\"\n",
    "    #x is initial point, \n",
    "    #tolerance \n",
    "    #line is the max_iter for line search at alpha**p where p=0 up to line\n",
    "    #method -> \"newton\" or \"secant\"\n",
    "    iter=1\n",
    "    p=0  \n",
    "    if abs(evaluation(x,df))< tolerance: \n",
    "        print(\"\\n Warning! denominator is too small \\n\") ##catch for errors on derivative\n",
    "        return\n",
    "    \n",
    "    if method==\"newton\":\n",
    "        print(\"\\t Newton method \\niter \\t p \\t x \\t\\t   error \\n\")\n",
    "        print(\"\\n %d \\t %d\\t %5.4e \\t %5.4e\"%(iter,p,x,abs(evaluation(x,f))))\n",
    "        while abs(evaluation(x,f)) > tolerance:\n",
    "            iter= iter + 1\n",
    "            delta=-(evaluation(x,f)/evaluation(x,df))\n",
    "            p,x=linesearch(p, x, tolerance, delta)\n",
    "            if (iter==100):\n",
    "                print(\"The last value of f(x)=\", evaluation(x,f), \" at 100 iterations \\n and it didn't converge at the given tolerance\")\n",
    "                break\n",
    "            print(\"\\n %d \\t %d\\t %5.4e \\t %5.4e\"%(iter,p,x,abs(evaluation(x,f))))\n",
    "    \n",
    " \n",
    "    \n",
    "    if method==\"secant\":\n",
    "        xa=x #secant\n",
    "        print(\"\\t Secant method \\nIter \\t X \\t\\t   Y \\n  \")\n",
    "        print(\"\\n %d \\t %d\\t %5.4e \\t %5.4e\"%(iter,p,x,abs(evaluation(x,f))))\n",
    "        while abs(evaluation(x,f)) > tolerance:\n",
    "            iter= iter + 1\n",
    "            delta=-(evaluation(x,f)/((evaluation(x,f)-evaluation(xa,f))/(x-xa))) ##xa is the previous, secant\n",
    "            xa=x ##update previous x before update, secant\n",
    "            p,x=linesearch(p, x, tolerance, delta)\n",
    "            if (iter==100):\n",
    "                print(\"The last value of f(x)=\", evaluation(x,f), \" at 100 iterations \\n and it didn't converge at the given tolerance\")\n",
    "                break\n",
    "            print(\"\\n %d \\t %d\\t %5.4e \\t %5.4e\"%(iter,p,x,abs(evaluation(x,f))))  \n",
    "    \n",
    "    if iter==1:\n",
    "        print(\"Your initial point was the actual solution to this equation!\")\n"
   ]
  },
  {
   "cell_type": "code",
   "execution_count": 5,
   "metadata": {},
   "outputs": [],
   "source": [
    "\n",
    "x=2\n",
    "f=\"math.atan(x)\"\n",
    "df=\"1/(1+x**2)\"\n",
    "tolerance=10**-7\n",
    "line=10\n",
    "method=\"newton\""
   ]
  },
  {
   "cell_type": "code",
   "execution_count": 6,
   "metadata": {},
   "outputs": [
    {
     "name": "stdout",
     "output_type": "stream",
     "text": [
      "\t Newton method \n",
      "iter \t p \t x \t\t   error \n",
      "\n",
      "\n",
      " 1 \t 0\t 2.0000e+00 \t 1.1071e+00\n",
      "\n",
      " 2 \t 1\t -7.6787e-01 \t 6.5484e-01\n",
      "\n",
      " 3 \t 0\t 2.7308e-01 \t 2.6658e-01\n",
      "\n",
      " 4 \t 0\t -1.3380e-02 \t 1.3379e-02\n",
      "\n",
      " 5 \t 0\t 1.5969e-06 \t 1.5969e-06\n",
      "\n",
      " 6 \t 0\t -2.7150e-18 \t 2.7150e-18\n"
     ]
    }
   ],
   "source": [
    "Newton_linesearch(f, df, x, tolerance, line, method)"
   ]
  },
  {
   "cell_type": "code",
   "execution_count": 84,
   "metadata": {},
   "outputs": [
    {
     "data": {
      "text/plain": [
       "1.1071487177940906"
      ]
     },
     "execution_count": 84,
     "metadata": {},
     "output_type": "execute_result"
    }
   ],
   "source": [
    "eval(f)"
   ]
  },
  {
   "cell_type": "code",
   "execution_count": null,
   "metadata": {},
   "outputs": [],
   "source": []
  }
 ],
 "metadata": {
  "kernelspec": {
   "display_name": "Python 3",
   "language": "python",
   "name": "python3"
  },
  "language_info": {
   "codemirror_mode": {
    "name": "ipython",
    "version": 3
   },
   "file_extension": ".py",
   "mimetype": "text/x-python",
   "name": "python",
   "nbconvert_exporter": "python",
   "pygments_lexer": "ipython3",
   "version": "3.8.2"
  }
 },
 "nbformat": 4,
 "nbformat_minor": 4
}
